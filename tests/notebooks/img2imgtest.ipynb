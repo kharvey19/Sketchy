{
 "cells": [
  {
   "cell_type": "code",
   "execution_count": 1,
   "metadata": {},
   "outputs": [
    {
     "name": "stderr",
     "output_type": "stream",
     "text": [
      "/Users/katherineharvey/anaconda3/envs/test/lib/python3.13/site-packages/tqdm/auto.py:21: TqdmWarning: IProgress not found. Please update jupyter and ipywidgets. See https://ipywidgets.readthedocs.io/en/stable/user_install.html\n",
      "  from .autonotebook import tqdm as notebook_tqdm\n"
     ]
    }
   ],
   "source": [
    "from diffusers import StableDiffusionImg2ImgPipeline\n",
    "from PIL import Image\n",
    "import torch\n",
    "from IPython.display import display"
   ]
  },
  {
   "cell_type": "markdown",
   "metadata": {},
   "source": [
    "### Functions for Pipeline"
   ]
  },
  {
   "cell_type": "code",
   "execution_count": null,
   "metadata": {},
   "outputs": [],
   "source": [
    "def setup_img2img_pipeline():\n",
    "    model_id = \"runwayml/stable-diffusion-v1-5\"\n",
    "    pipe = StableDiffusionImg2ImgPipeline.from_pretrained(model_id, torch_dtype=torch.float16)\n",
    "    pipe = pipe.to(\"cuda\")\n",
    "    return pipe"
   ]
  },
  {
   "cell_type": "markdown",
   "metadata": {},
   "source": [
    "### Generate and Display Image"
   ]
  },
  {
   "cell_type": "code",
   "execution_count": null,
   "metadata": {},
   "outputs": [],
   "source": [
    "# Load input image\n",
    "input_image_path = \"/content/00002.jpg\"  # Replace with your image path\n",
    "input_image = Image.open(input_image_path).convert(\"RGB\")\n",
    "\n",
    "# Set up pipeline\n",
    "pipe = setup_img2img_pipeline()\n",
    "\n",
    "# Define prompt\n",
    "prompt = (\n",
    "    \"highly detailed police sketch, black and white pencil drawing, \"\n",
    "    \"professional forensic artist style, a male around 30-35 years old The face shape is oval with defined cheekbones and the hairstyle is medium-length, straight hair parted slightly off-center with a broad and smooth forehead and thick and slightly curved eyebrows The eyes are medium-sized, almond-shaped eyes with a medium and straight nose a full lips with a neutral expression mouth The jawline is sharp and angular with none facial hair The skin tone is light with smooth complexion wearing collared shirt with fine vertical stripes \"\n",
    ")\n",
    "\n",
    "# The suspect is described as male around 45-50 years old The face shape is round with soft features and the hairstyle is short, wavy hair slicked back with a broad with slight creases forehead and thick and straight with a slight arch eyebrows The eyes are medium-sized, hooded eyes with a neutral expression with a medium and straight nose a thin lips with a neutral expression mouth The jawline is soft and rounded with none facial hair The skin tone is light with smooth complexion wearing collared shirt with visible seams\n",
    "# Generate image with Img2Img\n",
    "strength = 0.6  # Adjust strength for similarity to input image (lower = closer)\n",
    "guidance_scale = 7.5\n",
    "output = pipe(prompt=prompt, image=input_image, strength=strength, guidance_scale=guidance_scale)\n",
    "\n",
    "# Display and save result\n",
    "generated_image = output.images[0]\n",
    "\n",
    "# Save to ensure it persists\n",
    "output_image_path = \"/generated_image.jpg\"\n",
    "generated_image.save(output_image_path)\n",
    "\n",
    "display(generated_image)  \n",
    "print(f\"Generated image saved at: {output_image_path}\")"
   ]
  }
 ],
 "metadata": {
  "kernelspec": {
   "display_name": "test",
   "language": "python",
   "name": "python3"
  },
  "language_info": {
   "codemirror_mode": {
    "name": "ipython",
    "version": 3
   },
   "file_extension": ".py",
   "mimetype": "text/x-python",
   "name": "python",
   "nbconvert_exporter": "python",
   "pygments_lexer": "ipython3",
   "version": "3.13.1"
  }
 },
 "nbformat": 4,
 "nbformat_minor": 2
}
